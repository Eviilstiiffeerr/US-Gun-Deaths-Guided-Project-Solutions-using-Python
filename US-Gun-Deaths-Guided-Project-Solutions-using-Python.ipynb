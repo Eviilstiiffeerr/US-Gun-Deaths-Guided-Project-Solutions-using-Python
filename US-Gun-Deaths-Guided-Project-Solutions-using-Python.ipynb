{
 "cells": [
  {
   "cell_type": "code",
   "execution_count": 31,
   "metadata": {
    "collapsed": true
   },
   "outputs": [],
   "source": [
    "import csv;\n",
    "import datetime;\n",
    "file=open(\"guns.csv\",\"r\");\n",
    "data=csv.reader(file);\n",
    "data=list(data);"
   ]
  },
  {
   "cell_type": "code",
   "execution_count": 32,
   "metadata": {
    "collapsed": false
   },
   "outputs": [
    {
     "name": "stdout",
     "output_type": "stream",
     "text": [
      "[['', 'year', 'month', 'intent', 'police', 'sex', 'age', 'race', 'hispanic', 'place', 'education'], ['1', '2012', '01', 'Suicide', '0', 'M', '34', 'Asian/Pacific Islander', '100', 'Home', '4'], ['2', '2012', '01', 'Suicide', '0', 'F', '21', 'White', '100', 'Street', '3'], ['3', '2012', '01', 'Suicide', '0', 'M', '60', 'White', '100', 'Other specified', '4'], ['4', '2012', '02', 'Suicide', '0', 'M', '64', 'White', '100', 'Home', '4']]\n"
     ]
    }
   ],
   "source": [
    "print(data[0:5]);"
   ]
  },
  {
   "cell_type": "markdown",
   "metadata": {},
   "source": [
    "## Removing Headers From A List Of Lists"
   ]
  },
  {
   "cell_type": "code",
   "execution_count": 33,
   "metadata": {
    "collapsed": false
   },
   "outputs": [
    {
     "name": "stdout",
     "output_type": "stream",
     "text": [
      "['', 'year', 'month', 'intent', 'police', 'sex', 'age', 'race', 'hispanic', 'place', 'education']\n",
      "[['1', '2012', '01', 'Suicide', '0', 'M', '34', 'Asian/Pacific Islander', '100', 'Home', '4'], ['2', '2012', '01', 'Suicide', '0', 'F', '21', 'White', '100', 'Street', '3'], ['3', '2012', '01', 'Suicide', '0', 'M', '60', 'White', '100', 'Other specified', '4'], ['4', '2012', '02', 'Suicide', '0', 'M', '64', 'White', '100', 'Home', '4'], ['5', '2012', '02', 'Suicide', '0', 'M', '31', 'White', '100', 'Other specified', '2']]\n"
     ]
    }
   ],
   "source": [
    "headers=data[0];\n",
    "data=data[1:];\n",
    "print(headers);\n",
    "print(data[0:5]);"
   ]
  },
  {
   "cell_type": "markdown",
   "metadata": {},
   "source": [
    "## Counting Gun Deaths By Year"
   ]
  },
  {
   "cell_type": "code",
   "execution_count": 34,
   "metadata": {
    "collapsed": false
   },
   "outputs": [
    {
     "name": "stdout",
     "output_type": "stream",
     "text": [
      "{'2014': 33599, '2012': 33563, '2013': 33636}\n"
     ]
    }
   ],
   "source": [
    "years=[ (each[1]) for each in data];\n",
    "year_counts={};\n",
    "for each in years:\n",
    "    if each in year_counts:\n",
    "        year_counts[each]+=1;\n",
    "    else:\n",
    "        year_counts[each]=1;\n",
    "print(year_counts);"
   ]
  },
  {
   "cell_type": "markdown",
   "metadata": {},
   "source": [
    "## Exploring Gun Deaths By Month And Year"
   ]
  },
  {
   "cell_type": "code",
   "execution_count": 35,
   "metadata": {
    "collapsed": false
   },
   "outputs": [
    {
     "name": "stdout",
     "output_type": "stream",
     "text": [
      "{'2014-02-01': 2361, '2013-10-01': 2808, '2013-04-01': 2798, '2014-07-01': 2884, '2012-07-01': 3026, '2013-03-01': 2862, '2014-04-01': 2862, '2012-05-01': 2999, '2014-06-01': 2931, '2014-10-01': 2865, '2014-03-01': 2684, '2012-06-01': 2826, '2014-11-01': 2756, '2012-04-01': 2795, '2014-09-01': 2914, '2014-08-01': 2970, '2012-10-01': 2733, '2012-09-01': 2852, '2014-01-01': 2651, '2013-06-01': 2920, '2012-11-01': 2729, '2014-05-01': 2864, '2012-08-01': 2954, '2013-08-01': 2859, '2013-01-01': 2864, '2012-12-01': 2791, '2012-01-01': 2758, '2012-02-01': 2357, '2013-07-01': 3079, '2013-09-01': 2742, '2014-12-01': 2857, '2012-03-01': 2743, '2013-11-01': 2758, '2013-12-01': 2765, '2013-05-01': 2806, '2013-02-01': 2375}\n"
     ]
    }
   ],
   "source": [
    "dates=[(datetime.datetime(year=int(each[1]),month=int(each[2]),day=1)) for each in data ];\n",
    "#print(dates[0:5]);\n",
    "date_counts={};\n",
    "for each in dates:\n",
    "    temp=str(each.date());\n",
    "    if temp in date_counts:\n",
    "        date_counts[temp]+=1;\n",
    "    else:\n",
    "        date_counts[temp]=1;\n",
    "print(date_counts);"
   ]
  },
  {
   "cell_type": "markdown",
   "metadata": {},
   "source": [
    "## Exploring Gun Deaths By Race And Sex"
   ]
  },
  {
   "cell_type": "code",
   "execution_count": 36,
   "metadata": {
    "collapsed": false
   },
   "outputs": [
    {
     "name": "stdout",
     "output_type": "stream",
     "text": [
      "{'F': 14449, 'M': 86349}\n"
     ]
    }
   ],
   "source": [
    "sex_counts={};\n",
    "gender=[ (each[5]) for each in data];\n",
    "for each in gender:\n",
    "    if each in sex_counts:\n",
    "        sex_counts[each]+=1;\n",
    "    else:\n",
    "        sex_counts[each]=1;\n",
    "print(sex_counts)"
   ]
  },
  {
   "cell_type": "code",
   "execution_count": 37,
   "metadata": {
    "collapsed": false
   },
   "outputs": [
    {
     "name": "stdout",
     "output_type": "stream",
     "text": [
      "{'White': 66237, 'Black': 23296, 'Hispanic': 9022, 'Asian/Pacific Islander': 1326, 'Native American/Native Alaskan': 917}\n"
     ]
    }
   ],
   "source": [
    "race_counts={};\n",
    "races=[(each[7]) for each in data];\n",
    "\n",
    "for each in races:\n",
    "    if each in race_counts:\n",
    "        race_counts[each]+=1;\n",
    "    else:\n",
    "        race_counts[each]=1;\n",
    "print(race_counts);"
   ]
  },
  {
   "cell_type": "markdown",
   "metadata": {
    "collapsed": false
   },
   "source": [
    "## Findings so far\n",
    "\n",
    "**Gun deaths in the US seem to disproportionately affect men vs women. They also seem to disproportionately affect minorities, although having some data on the percentage of each race in the overall US population would help.**\n",
    "\n",
    "** There appears to be a minor seasonal correlation, with gun deaths peaking in the summer and declining in the winter. It might be useful to filter by intent, to see if different categories of intent have different correlations with season, race, or gender.**\n",
    "\n",
    "\n",
    "\n"
   ]
  },
  {
   "cell_type": "markdown",
   "metadata": {},
   "source": [
    "## Reading In A Second Dataset"
   ]
  },
  {
   "cell_type": "code",
   "execution_count": 38,
   "metadata": {
    "collapsed": false
   },
   "outputs": [
    {
     "data": {
      "text/plain": [
       "[['Id',\n",
       "  'Year',\n",
       "  'Id',\n",
       "  'Sex',\n",
       "  'Id',\n",
       "  'Hispanic Origin',\n",
       "  'Id',\n",
       "  'Id2',\n",
       "  'Geography',\n",
       "  'Total',\n",
       "  'Race Alone - White',\n",
       "  'Race Alone - Hispanic',\n",
       "  'Race Alone - Black or African American',\n",
       "  'Race Alone - American Indian and Alaska Native',\n",
       "  'Race Alone - Asian',\n",
       "  'Race Alone - Native Hawaiian and Other Pacific Islander',\n",
       "  'Two or More Races'],\n",
       " ['cen42010',\n",
       "  'April 1, 2010 Census',\n",
       "  'totsex',\n",
       "  'Both Sexes',\n",
       "  'tothisp',\n",
       "  'Total',\n",
       "  '0100000US',\n",
       "  '',\n",
       "  'United States',\n",
       "  '308745538',\n",
       "  '197318956',\n",
       "  '44618105',\n",
       "  '40250635',\n",
       "  '3739506',\n",
       "  '15159516',\n",
       "  '674625',\n",
       "  '6984195']]"
      ]
     },
     "execution_count": 38,
     "metadata": {},
     "output_type": "execute_result"
    }
   ],
   "source": [
    "file_census=open(\"census.csv\",\"r\");\n",
    "census=csv.reader(file_census);\n",
    "census=list(census);\n",
    "census"
   ]
  },
  {
   "cell_type": "markdown",
   "metadata": {},
   "source": [
    "## Computing Rates Of Gun Deaths Per Race"
   ]
  },
  {
   "cell_type": "code",
   "execution_count": 39,
   "metadata": {
    "collapsed": false
   },
   "outputs": [
    {
     "name": "stdout",
     "output_type": "stream",
     "text": [
      "{'White': 33.56849303419181, 'Black': 57.8773477735196, 'Native American/Native Alaskan': 24.521955573811088, 'Hispanic': 20.220491210910907, 'Asian/Pacific Islander': 8.374309664161762}\n"
     ]
    }
   ],
   "source": [
    "\n",
    "mapping={\n",
    "    'White': int(census[1][10]),\n",
    "    'Hispanic':int(census[1][11]),\n",
    "    'Black':int(census[1][12]),\n",
    "    'Native American/Native Alaskan':int(census[1][13]),\n",
    "    'Asian/Pacific Islander':int(census[1][14])+int(census[1][15])\n",
    "};\n",
    "race_per_hundredk={};\n",
    "for each in race_counts:\n",
    "    temp=race_counts[each]/mapping[each];\n",
    "    temp=temp*100000;\n",
    "    race_per_hundredk[each]=temp\n",
    "print(race_per_hundredk)"
   ]
  },
  {
   "cell_type": "markdown",
   "metadata": {},
   "source": [
    "##  Filtering By Intent\n"
   ]
  },
  {
   "cell_type": "code",
   "execution_count": 40,
   "metadata": {
    "collapsed": false
   },
   "outputs": [
    {
     "name": "stdout",
     "output_type": "stream",
     "text": [
      "{'White': 4.6356417981453335, 'Black': 48.471284987180944, 'Native American/Native Alaskan': 8.717729026240365, 'Hispanic': 12.627161104219914, 'Asian/Pacific Islander': 3.530346230970155}\n"
     ]
    }
   ],
   "source": [
    "intents=[(each[3]) for each in data];\n",
    "races=[(each[7]) for each in data];\n",
    "homocide_race_counts={};\n",
    "homocide_race_per_hundredk={};\n",
    "for i,race in enumerate(races):\n",
    "    if intents[i]==\"Homicide\":\n",
    "        if race in homocide_race_counts:\n",
    "            homocide_race_counts[race]+=1;\n",
    "        else:\n",
    "            homocide_race_counts[race]=1;\n",
    "for each in  homocide_race_counts:\n",
    "    temp=homocide_race_counts[each]/mapping[each];\n",
    "    temp=temp*100000;\n",
    "    homocide_race_per_hundredk[each]=temp;\n",
    "print(homocide_race_per_hundredk)"
   ]
  },
  {
   "cell_type": "markdown",
   "metadata": {
    "collapsed": true
   },
   "source": [
    "## Findings\n",
    "**It appears that gun related homicides in the US disproportionately affect people in the Black and Hispanic racial categories.**"
   ]
  }
 ],
 "metadata": {
  "kernelspec": {
   "display_name": "Python 3",
   "language": "python",
   "name": "python3"
  },
  "language_info": {
   "codemirror_mode": {
    "name": "ipython",
    "version": 3
   },
   "file_extension": ".py",
   "mimetype": "text/x-python",
   "name": "python",
   "nbconvert_exporter": "python",
   "pygments_lexer": "ipython3",
   "version": "3.4.3"
  }
 },
 "nbformat": 4,
 "nbformat_minor": 0
}
